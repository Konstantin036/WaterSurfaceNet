{
  "nbformat": 4,
  "nbformat_minor": 0,
  "metadata": {
    "colab": {
      "provenance": [],
      "gpuType": "T4",
      "authorship_tag": "ABX9TyPXZwlUe8FL2MA4+jG2ywGv",
      "include_colab_link": true
    },
    "kernelspec": {
      "name": "python3",
      "display_name": "Python 3"
    },
    "language_info": {
      "name": "python"
    },
    "accelerator": "GPU"
  },
  "cells": [
    {
      "cell_type": "markdown",
      "metadata": {
        "id": "view-in-github",
        "colab_type": "text"
      },
      "source": [
        "<a href=\"https://colab.research.google.com/github/Konstantin036/WaterSurfaceNet/blob/main/projekatOG.ipynb\" target=\"_parent\"><img src=\"https://colab.research.google.com/assets/colab-badge.svg\" alt=\"Open In Colab\"/></a>"
      ]
    },
    {
      "cell_type": "markdown",
      "source": [
        "**Postavljanje okruženja i instalacija biblioteka**\n",
        "\n",
        "Prvo, instaliraćemo sve potrebne biblioteke. Rasterio i GeoPandas su ključni za rad sa geografskim podacima, dok je albumentations odlična biblioteka za augmentaciju slika."
      ],
      "metadata": {
        "id": "6md-mlTE3qZ7"
      }
    },
    {
      "cell_type": "code",
      "source": [
        "# Instalacija potrebnih biblioteka\n",
        "!pip install -q torch torchvision torchaudio --index-url https://download.pytorch.org/whl/cu118\n",
        "!pip install -q rasterio geopandas matplotlib\n",
        "!pip install -q albumentations"
      ],
      "metadata": {
        "colab": {
          "base_uri": "https://localhost:8080/"
        },
        "id": "t51lV-ms3cSS",
        "outputId": "1839b12d-c326-4bd7-fc79-d36113fd2550"
      },
      "execution_count": 1,
      "outputs": [
        {
          "output_type": "stream",
          "name": "stdout",
          "text": [
            "\u001b[?25l   \u001b[90m━━━━━━━━━━━━━━━━━━━━━━━━━━━━━━━━━━━━━━━━\u001b[0m \u001b[32m0.0/22.3 MB\u001b[0m \u001b[31m?\u001b[0m eta \u001b[36m-:--:--\u001b[0m\r\u001b[2K   \u001b[91m━━━━━━\u001b[0m\u001b[90m╺\u001b[0m\u001b[90m━━━━━━━━━━━━━━━━━━━━━━━━━━━━━━━━━\u001b[0m \u001b[32m3.5/22.3 MB\u001b[0m \u001b[31m88.0 MB/s\u001b[0m eta \u001b[36m0:00:01\u001b[0m\r\u001b[2K   \u001b[91m━━━━━━━━━━━━━━━━\u001b[0m\u001b[91m╸\u001b[0m\u001b[90m━━━━━━━━━━━━━━━━━━━━━━━\u001b[0m \u001b[32m9.3/22.3 MB\u001b[0m \u001b[31m118.3 MB/s\u001b[0m eta \u001b[36m0:00:01\u001b[0m\r\u001b[2K   \u001b[91m━━━━━━━━━━━━━━━━━━━━━━━━━\u001b[0m\u001b[90m╺\u001b[0m\u001b[90m━━━━━━━━━━━━━━\u001b[0m \u001b[32m14.1/22.3 MB\u001b[0m \u001b[31m142.7 MB/s\u001b[0m eta \u001b[36m0:00:01\u001b[0m\r\u001b[2K   \u001b[91m━━━━━━━━━━━━━━━━━━━━━━━━━━━━━━━━━━━\u001b[0m\u001b[91m╸\u001b[0m\u001b[90m━━━━\u001b[0m \u001b[32m19.8/22.3 MB\u001b[0m \u001b[31m145.6 MB/s\u001b[0m eta \u001b[36m0:00:01\u001b[0m\r\u001b[2K   \u001b[91m━━━━━━━━━━━━━━━━━━━━━━━━━━━━━━━━━━━━━━━\u001b[0m\u001b[91m╸\u001b[0m \u001b[32m22.3/22.3 MB\u001b[0m \u001b[31m155.0 MB/s\u001b[0m eta \u001b[36m0:00:01\u001b[0m\r\u001b[2K   \u001b[91m━━━━━━━━━━━━━━━━━━━━━━━━━━━━━━━━━━━━━━━\u001b[0m\u001b[91m╸\u001b[0m \u001b[32m22.3/22.3 MB\u001b[0m \u001b[31m155.0 MB/s\u001b[0m eta \u001b[36m0:00:01\u001b[0m\r\u001b[2K   \u001b[90m━━━━━━━━━━━━━━━━━━━━━━━━━━━━━━━━━━━━━━━━\u001b[0m \u001b[32m22.3/22.3 MB\u001b[0m \u001b[31m71.6 MB/s\u001b[0m eta \u001b[36m0:00:00\u001b[0m\n",
            "\u001b[?25h"
          ]
        }
      ]
    },
    {
      "cell_type": "markdown",
      "source": [
        " **Importovanje biblioteka i definisanje pomoćnih funkcija**"
      ],
      "metadata": {
        "id": "MmzLvb3Q3pyy"
      }
    },
    {
      "cell_type": "code",
      "source": [
        "import os\n",
        "import numpy as np\n",
        "import cv2\n",
        "import torch\n",
        "import torch.nn as nn\n",
        "from torch.utils.data import Dataset, DataLoader\n",
        "from torchvision import models\n",
        "import albumentations as A\n",
        "from albumentations.pytorch import ToTensorV2\n",
        "from tqdm import tqdm\n",
        "import matplotlib.pyplot as plt\n",
        "\n",
        "# Za rad sa geo-podacima\n",
        "import rasterio\n",
        "from rasterio.features import shapes\n",
        "import geopandas as gpd\n",
        "from shapely.geometry import shape\n",
        "\n",
        "# Postavljanje uređaja (GPU ako je dostupan, inače CPU)\n",
        "DEVICE = \"cuda\" if torch.cuda.is_available() else \"cpu\""
      ],
      "metadata": {
        "id": "ekzzK7wc3cPi"
      },
      "execution_count": 2,
      "outputs": []
    },
    {
      "cell_type": "markdown",
      "source": [
        " **Priprema podataka (Dataset i DataLoader)**\n",
        "\n",
        "Ovde ćemo definisati prilagođenu klasu za učitavanje slika i maski. Očekuje se da slike i maske imaju ista imena i da se nalaze u odvojenim folderima."
      ],
      "metadata": {
        "id": "3SDGxyUV4MYD"
      }
    },
    {
      "cell_type": "code",
      "source": [
        "class WaterBodiesDataset(Dataset):\n",
        "    \"\"\"\n",
        "    Klasa za učitavanje ortofoto snimaka i odgovarajućih maski.\n",
        "    \"\"\"\n",
        "    def __init__(self, image_dir, mask_dir, transform=None):\n",
        "        self.image_dir = image_dir\n",
        "        self.mask_dir = mask_dir\n",
        "        self.transform = transform\n",
        "        self.images = os.listdir(image_dir)\n",
        "\n",
        "    def __len__(self):\n",
        "        return len(self.images)\n",
        "\n",
        "    def __getitem__(self, index):\n",
        "        img_path = os.path.join(self.image_dir, self.images[index])\n",
        "        # Pretpostavljamo da maske imaju isto ime kao slike\n",
        "        mask_path = os.path.join(self.mask_dir, self.images[index])\n",
        "\n",
        "        # Učitavanje slike i maske. OpenCV učitava u BGR formatu.\n",
        "        image = cv2.imread(img_path)\n",
        "        image = cv2.cvtColor(image, cv2.COLOR_BGR2RGB)\n",
        "\n",
        "        # Učitavanje maske kao grayscale.\n",
        "        mask = cv2.imread(mask_path, 0)\n",
        "\n",
        "        # Binarizacija maske: pikseli > 0 postaju 1 (voda), ostali su 0 (pozadina).\n",
        "        mask[mask > 0] = 1.0\n",
        "\n",
        "        if self.transform is not None:\n",
        "            augmentations = self.transform(image=image, mask=mask)\n",
        "            image = augmentations[\"image\"]\n",
        "            mask = augmentations[\"mask\"]\n",
        "            # PyTorch očekuje masku tipa LongTensor za CrossEntropyLoss\n",
        "            mask = mask.long()\n",
        "\n",
        "        return image, mask\n",
        "\n",
        "# Definisanje augmentacija za trening i validaciju\n",
        "# Augmentacije pomažu modelu da nauči invarijantnost na rotaciju, promenu osvetljenja itd.\n",
        "train_transform = A.Compose(\n",
        "    [\n",
        "        A.Resize(512, 512),\n",
        "        A.Rotate(limit=35, p=0.5),\n",
        "        A.HorizontalFlip(p=0.5),\n",
        "        A.VerticalFlip(p=0.5),\n",
        "        A.Normalize(\n",
        "            mean=[0.485, 0.456, 0.406],\n",
        "            std=[0.229, 0.224, 0.225],\n",
        "            max_pixel_value=255.0,\n",
        "        ),\n",
        "        ToTensorV2(),\n",
        "    ],\n",
        ")\n",
        "\n",
        "val_transform = A.Compose(\n",
        "    [\n",
        "        A.Resize(512, 512),\n",
        "        A.Normalize(\n",
        "            mean=[0.485, 0.456, 0.406],\n",
        "            std=[0.229, 0.224, 0.225],\n",
        "            max_pixel_value=255.0,\n",
        "        ),\n",
        "        ToTensorV2(),\n",
        "    ],\n",
        ")"
      ],
      "metadata": {
        "id": "osOnRWwW3cM-"
      },
      "execution_count": null,
      "outputs": []
    },
    {
      "cell_type": "markdown",
      "source": [
        "Objašnjenje augmentacija:\n",
        "\n",
        "    Normalize: Normalizacija slika koristeći srednje vrednosti i standardne devijacije ImageNet skupa. Ovo je standardna praksa kada se koristi pre-trenirani model.\n",
        "\n",
        "    ToTensorV2: Konvertuje sliku i masku u PyTorch tenzore."
      ],
      "metadata": {
        "id": "cMEKCF0w4cTp"
      }
    },
    {
      "cell_type": "markdown",
      "source": [
        " **Učitavanje i podela podataka**\n",
        "\n",
        "Pre pokretanja ovog dela, potrebno je da postavite vaše podatke u Colab okruženje. Možete ih uploadovati direktno ili mountovati sa Google Drive-a."
      ],
      "metadata": {
        "id": "rU9LG6M54x8f"
      }
    },
    {
      "cell_type": "code",
      "source": [
        "# Kreiranje praznih foldera za demonstraciju\n",
        "os.makedirs(\"/content/data/train_images\", exist_ok=True)\n",
        "os.makedirs(\"/content/data/train_masks\", exist_ok=True)\n",
        "os.makedirs(\"/content/data/val_images\", exist_ok=True)\n",
        "os.makedirs(\"/content/data/val_masks\", exist_ok=True)\n",
        "\n",
        "# !!! VAŽNO !!!\n",
        "# Ovde trebate da postavite vaše slike i maske u odgovarajuće foldere.\n",
        "# Za sada, kreiraćemo nekoliko lažnih slika i maski za testiranje koda.\n",
        "\n",
        "def create_dummy_data():\n",
        "    for i in range(10): # 10 slika za trening\n",
        "        dummy_image = np.random.randint(0, 256, (512, 512, 3), dtype=np.uint8)\n",
        "        dummy_mask = np.zeros((512, 512), dtype=np.uint8)\n",
        "        # Kreiranje \"vodene površine\" u centru maske\n",
        "        cv2.rectangle(dummy_mask, (100, 100), (400, 400), 255, -1)\n",
        "        cv2.imwrite(f\"/content/data/train_images/img_{i}.png\", dummy_image)\n",
        "        cv2.imwrite(f\"/content/data/train_masks/img_{i}.png\", dummy_mask)\n",
        "\n",
        "    for i in range(3): # 3 slike za validaciju\n",
        "        dummy_image = np.random.randint(0, 256, (512, 512, 3), dtype=np.uint8)\n",
        "        dummy_mask = np.zeros((512, 512), dtype=np.uint8)\n",
        "        cv2.rectangle(dummy_mask, (150, 150), (350, 350), 255, -1)\n",
        "        cv2.imwrite(f\"/content/data/val_images/img_{i}.png\", dummy_image)\n",
        "        cv2.imwrite(f\"/content/data/val_masks/img_{i}.png\", dummy_mask)\n",
        "\n",
        "create_dummy_data()\n",
        "\n",
        "# Putanje do vaših podataka\n",
        "TRAIN_IMG_DIR = \"/content/data/train_images/\"\n",
        "TRAIN_MASK_DIR = \"/content/data/train_masks/\"\n",
        "VAL_IMG_DIR = \"/content/data/val_images/\"\n",
        "VAL_MASK_DIR = \"/content/data/val_masks/\"\n",
        "\n",
        "# Kreiranje Dataset i DataLoader objekata\n",
        "train_dataset = WaterBodiesDataset(\n",
        "    image_dir=TRAIN_IMG_DIR, mask_dir=TRAIN_MASK_DIR, transform=train_transform\n",
        ")\n",
        "val_dataset = WaterBodiesDataset(\n",
        "    image_dir=VAL_IMG_DIR, mask_dir=VAL_MASK_DIR, transform=val_transform\n",
        ")\n",
        "\n",
        "train_loader = DataLoader(train_dataset, batch_size=4, shuffle=True, num_workers=2)\n",
        "val_loader = DataLoader(val_dataset, batch_size=4, shuffle=False, num_workers=2)\n",
        "\n",
        "# Prikaz preklapanja maske i ortofotoa\n",
        "def show_sample(image, mask):\n",
        "    # Denormalizacija slike za prikaz\n",
        "    inv_normalize = A.Normalize(\n",
        "        mean=[-0.485/0.229, -0.456/0.224, -0.406/0.225],\n",
        "        std=[1/0.229, 1/0.224, 1/0.225],\n",
        "        max_pixel_value=1.0\n",
        "    )\n",
        "    image = inv_normalize(image=image.permute(1, 2, 0))['image']\n",
        "\n",
        "    plt.figure(figsize=(12, 6))\n",
        "    plt.subplot(1, 2, 1)\n",
        "    plt.imshow(image)\n",
        "    plt.title(\"Ortofoto\")\n",
        "    plt.subplot(1, 2, 2)\n",
        "    plt.imshow(image)\n",
        "    # Prikaz maske sa providnošću\n",
        "    plt.imshow(mask, cmap=\"jet\", alpha=0.5)\n",
        "    plt.title(\"Ortofoto sa maskom\")\n",
        "    plt.show()\n",
        "\n",
        "# Prikaz jednog primera\n",
        "image, mask = train_dataset[0]\n",
        "show_sample(image, mask)"
      ],
      "metadata": {
        "id": "FXVEeyD23cIf"
      },
      "execution_count": null,
      "outputs": []
    },
    {
      "cell_type": "markdown",
      "source": [
        "**Implementacija DeepLabV3 modela**\n",
        "\n",
        "Koristimo pre-trenirani DeepLabV3 sa ResNet-50 kao osnovom. Menjamo samo klasifikator da odgovara našem broju klasa (2: pozadina i voda)."
      ],
      "metadata": {
        "id": "Zj1Sipp-47hz"
      }
    },
    {
      "cell_type": "code",
      "source": [
        "def get_model(num_classes):\n",
        "    # Učitavanje pre-treniranog DeepLabV3 modela\n",
        "    model = models.segmentation.deeplabv3_resnet50(weights='DeepLabV3_ResNet50_Weights.DEFAULT')\n",
        "\n",
        "    # Menjamo klasifikator da odgovara broju klasa našeg problema\n",
        "    # U DeepLabV3, to je 'classifier.4' sloj\n",
        "    model.classifier[4] = nn.Conv2d(256, num_classes, kernel_size=(1, 1), stride=(1, 1))\n",
        "\n",
        "    return model\n",
        "\n",
        "# Naš problem ima 2 klase: 0=pozadina, 1=voda\n",
        "NUM_CLASSES = 2\n",
        "model = get_model(num_classes=NUM_CLASSES).to(DEVICE)"
      ],
      "metadata": {
        "id": "z3UgXhaU3b8b"
      },
      "execution_count": null,
      "outputs": []
    },
    {
      "cell_type": "markdown",
      "source": [
        "**Trening modela**\n",
        "\n",
        "Definišemo funkciju gubitka, optimizator i petlje za trening i validaciju."
      ],
      "metadata": {
        "id": "UhT9pPLk5DSy"
      }
    },
    {
      "cell_type": "code",
      "execution_count": null,
      "metadata": {
        "id": "kj2zfPqF3Ifn"
      },
      "outputs": [],
      "source": [
        "# Definicija hiperparametara\n",
        "LEARNING_RATE = 1e-4\n",
        "NUM_EPOCHS = 25 # Povećajte broj epoha za stvarne podatke\n",
        "BATCH_SIZE = 4\n",
        "\n",
        "# Funkcija gubitka i optimizator\n",
        "loss_fn = nn.CrossEntropyLoss()\n",
        "optimizer = torch.optim.Adam(model.parameters(), lr=LEARNING_RATE)\n",
        "\n",
        "def train_one_epoch(loader, model, optimizer, loss_fn, device):\n",
        "    \"\"\"Funkcija za jednu epohu treninga.\"\"\"\n",
        "    model.train()\n",
        "    loop = tqdm(loader)\n",
        "\n",
        "    for batch_idx, (data, targets) in enumerate(loop):\n",
        "        data = data.to(device=device)\n",
        "        targets = targets.to(device=device)\n",
        "\n",
        "        # Forward pass\n",
        "        predictions = model(data)['out']\n",
        "        loss = loss_fn(predictions, targets)\n",
        "\n",
        "        # Backward pass\n",
        "        optimizer.zero_grad()\n",
        "        loss.backward()\n",
        "        optimizer.step()\n",
        "\n",
        "        # Ažuriranje progres trake\n",
        "        loop.set_postfix(loss=loss.item())\n",
        "\n",
        "# Petlja za trening\n",
        "for epoch in range(NUM_EPOCHS):\n",
        "    print(f\"--- Epoha {epoch+1}/{NUM_EPOCHS} ---\")\n",
        "    train_one_epoch(train_loader, model, optimizer, loss_fn, DEVICE)\n",
        "    # U pravom projektu, ovde bi se dodala i validacija nakon svake epohe.\n",
        "    # Takođe, čuvanje najboljeg modela.\n",
        "\n",
        "# Sačuvati model nakon treninga\n",
        "torch.save(model.state_dict(), \"deeplabv3_water_segmentation.pth\")"
      ]
    },
    {
      "cell_type": "markdown",
      "source": [
        "**Evaluacija modela**\n",
        "\n",
        "Implementiraćemo metrike IoU i F1-score."
      ],
      "metadata": {
        "id": "HW6U-9gt5IIE"
      }
    },
    {
      "cell_type": "code",
      "source": [
        "def check_accuracy(loader, model, device=\"cuda\"):\n",
        "    \"\"\"\n",
        "    Funkcija za računanje metrika (IoU, F1-score, tačnost) na datom skupu.\n",
        "    \"\"\"\n",
        "    num_correct = 0\n",
        "    num_pixels = 0\n",
        "    dice_score = 0 # F1-score je ekvivalent Dice koeficijentu\n",
        "    iou_score = 0\n",
        "    model.eval()\n",
        "\n",
        "    with torch.no_grad():\n",
        "        for x, y in loader:\n",
        "            x = x.to(device)\n",
        "            y = y.to(device)\n",
        "\n",
        "            preds = model(x)['out']\n",
        "            preds = torch.argmax(preds, dim=1)\n",
        "\n",
        "            num_correct += (preds == y).sum()\n",
        "            num_pixels += torch.numel(preds)\n",
        "\n",
        "            # Računanje Dice i IoU za svaku sliku u batch-u\n",
        "            for i in range(preds.shape[0]):\n",
        "                pred_i = preds[i].flatten()\n",
        "                y_i = y[i].flatten()\n",
        "\n",
        "                intersection = (pred_i & y_i).sum()\n",
        "\n",
        "                # Dice / F1-score\n",
        "                dice_score += (2. * intersection) / (pred_i.sum() + y_i.sum() + 1e-8)\n",
        "\n",
        "                # IoU / Jaccard\n",
        "                union = (pred_i | y_i).sum()\n",
        "                iou_score += intersection / (union + 1e-8)\n",
        "\n",
        "    print(f\"Tačnost piksela: {num_correct/num_pixels*100:.2f}%\")\n",
        "    print(f\"Prosečan F1-score (Dice): {dice_score/len(loader.dataset):.4f}\")\n",
        "    print(f\"Prosečan IoU (Jaccard): {iou_score/len(loader.dataset):.4f}\")\n",
        "\n",
        "    model.train()\n",
        "\n",
        "print(\"\\n--- Evaluacija na validacionom skupu ---\")\n",
        "check_accuracy(val_loader, model, device=DEVICE)"
      ],
      "metadata": {
        "id": "ygFefUQe5M5n"
      },
      "execution_count": null,
      "outputs": []
    },
    {
      "cell_type": "markdown",
      "source": [
        "**Vizualizacija predikcija**\n",
        "\n",
        "Ova funkcija će prikazati original, stvarnu masku i predikciju modela jednu pored druge."
      ],
      "metadata": {
        "id": "dx3m3p9m5QAY"
      }
    },
    {
      "cell_type": "code",
      "source": [
        "def save_predictions_as_imgs(loader, model, folder=\"saved_images/\", device=\"cuda\"):\n",
        "    \"\"\"\n",
        "    Funkcija za čuvanje predikcija i njihovo poređenje sa originalima.\n",
        "    \"\"\"\n",
        "    if not os.path.exists(folder):\n",
        "        os.makedirs(folder)\n",
        "\n",
        "    model.eval()\n",
        "    for idx, (x, y) in enumerate(loader):\n",
        "        x = x.to(device=device)\n",
        "        with torch.no_grad():\n",
        "            preds = model(x)['out']\n",
        "            preds = torch.argmax(preds, dim=1).cpu().numpy()\n",
        "\n",
        "        # Prikazivanje rezultata za prvu sliku u batch-u\n",
        "        plt.figure(figsize=(15, 5))\n",
        "\n",
        "        # Originalna slika (denormalizovana)\n",
        "        inv_normalize = A.Normalize(\n",
        "            mean=[-0.485/0.229, -0.456/0.224, -0.406/0.225],\n",
        "            std=[1/0.229, 1/0.224, 1/0.225]\n",
        "        )\n",
        "        image_to_show = inv_normalize(image=x[0].cpu().permute(1, 2, 0))['image']\n",
        "\n",
        "        plt.subplot(1, 3, 1)\n",
        "        plt.imshow(image_to_show)\n",
        "        plt.title(\"Originalna Slika\")\n",
        "\n",
        "        # Ground Truth Maska\n",
        "        plt.subplot(1, 3, 2)\n",
        "        plt.imshow(y[0].squeeze(), cmap='gray')\n",
        "        plt.title(\"Stvarna Maska\")\n",
        "\n",
        "        # Predikcija Modela\n",
        "        plt.subplot(1, 3, 3)\n",
        "        plt.imshow(preds[0], cmap='gray')\n",
        "        plt.title(\"Predikcija Modela\")\n",
        "\n",
        "        plt.savefig(f\"{folder}/prediction_{idx}.png\")\n",
        "        plt.show()\n",
        "\n",
        "        # Prikazujemo samo nekoliko primera da ne pretrpamo izlaz\n",
        "        if idx > 2:\n",
        "            break\n",
        "\n",
        "    model.train()\n",
        "\n",
        "save_predictions_as_imgs(val_loader, model, device=DEVICE)"
      ],
      "metadata": {
        "id": "rhze_MMb5QjX"
      },
      "execution_count": null,
      "outputs": []
    },
    {
      "cell_type": "markdown",
      "source": [
        "**Inferencija na velikim slikama (Sliding Window)**\n",
        "\n",
        "Za slike dimenzija 10520x10520, ne možemo ih učitati cele u memoriju GPU-a. Rešenje je da se slika iseče na manje delove (npr. 512x512), izvrši predikcija na svakom delu, i zatim se rezultati spoje nazad.\n"
      ],
      "metadata": {
        "id": "7oBax4ZC5iI-"
      }
    },
    {
      "cell_type": "code",
      "source": [
        "def predict_large_image(model, large_image_path, patch_size=512, stride=256):\n",
        "    \"\"\"\n",
        "    Vrši predikciju na velikoj slici koristeći sliding window pristup.\n",
        "    \"\"\"\n",
        "    model.eval()\n",
        "\n",
        "    # Učitavanje slike koristeći OpenCV\n",
        "    large_image = cv2.imread(large_image_path)\n",
        "    large_image_rgb = cv2.cvtColor(large_image, cv2.COLOR_BGR2RGB)\n",
        "    h, w, _ = large_image_rgb.shape\n",
        "\n",
        "    # Kreiranje prazne mape za predikcije\n",
        "    prediction_map = np.zeros((h, w), dtype=np.uint8)\n",
        "\n",
        "    # Normalizacija za model\n",
        "    transform = A.Compose([\n",
        "        A.Normalize(\n",
        "            mean=[0.485, 0.456, 0.406],\n",
        "            std=[0.229, 0.224, 0.225],\n",
        "            max_pixel_value=255.0,\n",
        "        ),\n",
        "        ToTensorV2(),\n",
        "    ])\n",
        "\n",
        "    for y in tqdm(range(0, h, stride)):\n",
        "        for x in range(0, w, stride)):\n",
        "            y_end = min(y + patch_size, h)\n",
        "            x_end = min(x + patch_size, w)\n",
        "            patch = large_image_rgb[y:y_end, x:x_end]\n",
        "\n",
        "            # Preskoči ako je patch manji od minimalne veličine\n",
        "            if patch.shape[0] < 64 or patch.shape[1] < 64:\n",
        "                continue\n",
        "\n",
        "            # Pad-ovanje patch-a ako nije tačne veličine 512x512\n",
        "            padded_patch = cv2.copyMakeBorder(\n",
        "                patch, 0, patch_size - patch.shape[0], 0, patch_size - patch.shape[1],\n",
        "                cv2.BORDER_CONSTANT, value=0\n",
        "            )\n",
        "\n",
        "            # Priprema za model\n",
        "            input_tensor = transform(image=padded_patch)[\"image\"].unsqueeze(0).to(DEVICE)\n",
        "\n",
        "            with torch.no_grad():\n",
        "                output = model(input_tensor)['out']\n",
        "                pred_mask = torch.argmax(output, dim=1).squeeze(0).cpu().numpy().astype(np.uint8)\n",
        "\n",
        "            # Isecanje originalne veličine patch-a iz predikcije\n",
        "            pred_mask_cropped = pred_mask[:patch.shape[0], :patch.shape[1]]\n",
        "\n",
        "            # Postavljanje predikcije na odgovarajuće mesto u finalnoj mapi\n",
        "            prediction_map[y:y_end, x:x_end] = pred_mask_cropped\n",
        "\n",
        "    return prediction_map\n",
        "\n",
        "# Primer upotrebe (potrebno je imati veliku sliku na putanji)\n",
        "# large_image_path = \"/content/velika_slika.tif\"\n",
        "# final_prediction = predict_large_image(model, large_image_path)\n",
        "# plt.imshow(final_prediction, cmap='gray')\n",
        "# plt.show()\n",
        "# cv2.imwrite(\"/content/velika_slika_predikcija.png\", final_prediction * 255)"
      ],
      "metadata": {
        "id": "yFKBedzr5eQ9"
      },
      "execution_count": null,
      "outputs": []
    },
    {
      "cell_type": "markdown",
      "source": [
        "**Post-procesiranje (Raster u Vektor)**\n",
        "\n",
        "Konačno, konvertujemo finalnu rastersku predikciju u poligone (vektorski format).\n"
      ],
      "metadata": {
        "id": "8oUQ9n0q5d_D"
      }
    },
    {
      "cell_type": "code",
      "source": [
        "def raster_to_vector(raster_path, output_vector_path):\n",
        "    \"\"\"\n",
        "    Konvertuje binarni raster u vektorski format (GeoJSON).\n",
        "    \"\"\"\n",
        "    with rasterio.open(raster_path) as src:\n",
        "        # Čitanje prvog kanala (band)\n",
        "        image = src.read(1)\n",
        "\n",
        "        # Maska gde su vrednosti 1 (voda)\n",
        "        mask = image == 1\n",
        "\n",
        "        # Generisanje oblika (poligona) iz maske\n",
        "        results = (\n",
        "            {'properties': {'raster_val': v}, 'geometry': s}\n",
        "            for i, (s, v) in enumerate(\n",
        "                shapes(image, mask=mask, transform=src.transform))\n",
        "        )\n",
        "\n",
        "        geometries = list(results)\n",
        "\n",
        "        # Kreiranje GeoDataFrame-a\n",
        "        if geometries:\n",
        "            gdf = gpd.GeoDataFrame.from_features(geometries)\n",
        "            gdf.set_crs(src.crs, inplace=True)\n",
        "            gdf.to_file(output_vector_path, driver='GeoJSON')\n",
        "            print(f\"Vektori sačuvani u: {output_vector_path}\")\n",
        "        else:\n",
        "            print(\"Nije pronađena nijedna vodena površina za vektorizaciju.\")\n",
        "\n",
        "# Kreiranje lažne rasterske predikcije za demonstraciju\n",
        "dummy_prediction = np.zeros((512, 512), dtype=np.uint8)\n",
        "cv2.rectangle(dummy_prediction, (100, 100), (300, 300), 1, -1) # Voda je vrednost 1\n",
        "cv2.circle(dummy_prediction, (400, 400), 50, 1, -1)\n",
        "\n",
        "# Za raster_to_vector je potreban geo-referenciran fajl, pa ga kreiramo\n",
        "with rasterio.open(\n",
        "    '/content/dummy_prediction.tif', 'w',\n",
        "    driver='GTiff', height=dummy_prediction.shape[0], width=dummy_prediction.shape[1],\n",
        "    count=1, dtype=str(dummy_prediction.dtype),\n",
        "    crs='+proj=utm +zone=34 +ellps=WGS84 +datum=WGS84 +units=m +no_defs' # Primer CRS\n",
        ") as dst:\n",
        "    dst.write(dummy_prediction, 1)\n",
        "\n",
        "\n",
        "# Pokretanje konverzije\n",
        "raster_to_vector('/content/dummy_prediction.tif', '/content/vodene_povrsine.geojson')"
      ],
      "metadata": {
        "id": "OSIdAv8N5n_S"
      },
      "execution_count": null,
      "outputs": []
    }
  ]
}